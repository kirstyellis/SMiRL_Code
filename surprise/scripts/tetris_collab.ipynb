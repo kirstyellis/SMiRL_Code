{
  "nbformat": 4,
  "nbformat_minor": 0,
  "metadata": {
    "colab": {
      "provenance": []
    },
    "kernelspec": {
      "name": "python3",
      "display_name": "Python 3"
    },
    "language_info": {
      "name": "python"
    }
  },
  "cells": [
    {
      "cell_type": "code",
      "execution_count": null,
      "metadata": {
        "id": "4HBPnmbIPPyl"
      },
      "outputs": [],
      "source": [
        "#@title Mount your Google Drive\n",
        "#@markdown Your work will be stored in a folder called `cs285_f2023` by default to prevent Colab instance timeouts from deleting your edits.\n",
        "\n",
        "import os\n",
        "from google.colab import drive\n",
        "drive.mount('/content/gdrive', force_remount=True)"
      ]
    },
    {
      "cell_type": "code",
      "execution_count": 2,
      "metadata": {
        "id": "OuCfTLJIx5nQ"
      },
      "outputs": [],
      "source": [
        "#@title Set up mount symlink\n",
        "\n",
        "DRIVE_PATH = '/content/gdrive/My\\ Drive/tetris'\n",
        "DRIVE_PYTHON_PATH = DRIVE_PATH.replace('\\\\', '')\n",
        "if not os.path.exists(DRIVE_PYTHON_PATH):\n",
        "  %mkdir $DRIVE_PATH\n",
        "\n",
        "## the space in `My Drive` causes some issues,\n",
        "## make a symlink to avoid this\n",
        "SYM_PATH = '/content/tetris'\n",
        "if not os.path.exists(SYM_PATH):\n",
        "  !ln -s $DRIVE_PATH $SYM_PATH"
      ]
    },
    {
      "cell_type": "code",
      "execution_count": null,
      "metadata": {
        "id": "-VfWe74kRsza"
      },
      "outputs": [],
      "source": [
        "#@title Install requirements\n",
        "\n",
        "#@markdown Run each section with Shift+Enter\n",
        "\n",
        "#@markdown Double-click on section headers to show code.\n",
        "\n",
        "!pip install scikit-image"
      ]
    },
    {
      "cell_type": "code",
      "source": [
        "#@title Clone tetris repo\n",
        "\n",
        "%cd $SYM_PATH\n",
        "!git clone https://github.com/kirstyellis/SMiRL_Code.git\n",
        "%cd SMiRL_Code/surprise/envs/tetris\n",
        "%env PYTHONPATH=/env/python:/content/gdrive/My Drive/tetris/SMiRL_Code\n",
        "!python tetris_surprise.py"
      ],
      "metadata": {
        "id": "ehehAC3gdTw-"
      },
      "execution_count": null,
      "outputs": []
    }
  ]
}